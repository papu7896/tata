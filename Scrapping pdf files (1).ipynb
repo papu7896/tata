{
 "cells": [
  {
   "cell_type": "code",
   "execution_count": null,
   "metadata": {},
   "outputs": [],
   "source": [
    "import requests\n",
    "from bs4 import BeautifulSoup\n",
    "import os\n",
    "import urllib\n",
    "\n",
    "def download_pdf(link, filename):\n",
    "    response = requests.get(link,verify=False)\n",
    "    with open(filename, 'wb') as f:\n",
    "        f.write(response.content)\n",
    "\n",
    "def scrape_annual_reports(url, destination_folder):\n",
    "    response = requests.get(url,verify=False)\n",
    "    soup = BeautifulSoup(response.text, 'html.parser')\n",
    "\n",
    "    # Find all PDF links on the page.\n",
    "    # The actual tag and attribute to look for will depend on the website's structure.\n",
    "    pdf_links = soup.find_all('a', {'href': True})\n",
    "\n",
    "    for link in pdf_links:\n",
    "        href = link['href']\n",
    "        if href.endswith('.pdf'): # The file is a PDF\n",
    "            filename = os.path.join(destination_folder, os.path.basename(href))\n",
    "            download_pdf(urllib.parse.urljoin(url, href), filename)\n",
    "\n",
    "# usage\n",
    "scrape_annual_reports(\"https://www.tatasteel.com/investors/integrated-reportannual-report/integrated-report-annual-accounts-2021-22-115th-year-and-related-documents/\", r\"C:\\Users\\nitin.bandgar\\OneDrive - TSL\\Desktop\\IITM Internship\\Projects\\Project 1- Financial Report Analysis\")\n"
   ]
  },
  {
   "cell_type": "code",
   "execution_count": null,
   "metadata": {},
   "outputs": [],
   "source": []
  },
  {
   "cell_type": "code",
   "execution_count": null,
   "metadata": {},
   "outputs": [],
   "source": []
  }
 ],
 "metadata": {
  "kernelspec": {
   "display_name": "base",
   "language": "python",
   "name": "python3"
  },
  "language_info": {
   "codemirror_mode": {
    "name": "ipython",
    "version": 3
   },
   "file_extension": ".py",
   "mimetype": "text/x-python",
   "name": "python",
   "nbconvert_exporter": "python",
   "pygments_lexer": "ipython3",
   "version": "3.9.7"
  },
  "orig_nbformat": 4
 },
 "nbformat": 4,
 "nbformat_minor": 2
}
